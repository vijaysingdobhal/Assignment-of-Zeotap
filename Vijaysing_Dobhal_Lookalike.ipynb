{
 "cells": [
  {
   "cell_type": "code",
   "execution_count": 2,
   "id": "6d7e970b-4007-4593-aa03-da1bb7443b0f",
   "metadata": {},
   "outputs": [],
   "source": [
    "import pandas as pd\n",
    "import numpy as np\n",
    "from sklearn.metrics.pairwise import cosine_similarity\n",
    "from sklearn.preprocessing import StandardScaler"
   ]
  },
  {
   "cell_type": "code",
   "execution_count": 4,
   "id": "d2c46d1d-39df-4af0-a827-928a120c59ed",
   "metadata": {},
   "outputs": [],
   "source": [
    "# Load datasets\n",
    "customers = pd.read_csv(\"E:/Project of DS/Zeotap/Customers.csv\")\n",
    "products = pd.read_csv(\"E:/Project of DS/Zeotap/Products.csv\")\n",
    "transactions = pd.read_csv(\"E:/Project of DS/Zeotap/Transactions.csv\")"
   ]
  },
  {
   "cell_type": "code",
   "execution_count": 6,
   "id": "2fcc2d27-7d4b-4007-9572-9be2b8e95f97",
   "metadata": {},
   "outputs": [],
   "source": [
    "# Merge transactions with customer data\n",
    "transactions = transactions.merge(customers[['CustomerID', 'Region']], on='CustomerID', how='left')"
   ]
  },
  {
   "cell_type": "markdown",
   "id": "2252f122-fad0-425d-b8ae-40351c6d055e",
   "metadata": {},
   "source": [
    "# 1. Feature Engineering: Create user-profile vectors"
   ]
  },
  {
   "cell_type": "code",
   "execution_count": 8,
   "id": "23583650-ecfb-4ec5-ab3d-81c7c541aedd",
   "metadata": {},
   "outputs": [],
   "source": [
    "# Customer spending behavior and product preferences\n",
    "user_features = transactions.groupby('CustomerID').agg({\n",
    "    'TotalValue': 'sum',  # Total spending\n",
    "    'ProductID': 'nunique',  # Number of unique products purchased\n",
    "    'Quantity': 'sum',  # Total quantity purchased\n",
    "}).reset_index()"
   ]
  },
  {
   "cell_type": "code",
   "execution_count": 11,
   "id": "e5b2e54e-b5f5-451d-837d-3089b6cdaed7",
   "metadata": {},
   "outputs": [],
   "source": [
    "# Add customer region as categorical data\n",
    "region_dummies = pd.get_dummies(customers['Region'])\n",
    "region_dummies['CustomerID'] = customers['CustomerID']\n",
    "user_features = user_features.merge(region_dummies, on='CustomerID', how='left')"
   ]
  },
  {
   "cell_type": "code",
   "execution_count": 13,
   "id": "926006d9-ff53-4426-a9fd-d6f4813eb296",
   "metadata": {},
   "outputs": [],
   "source": [
    "# 2. Standardizing the features\n",
    "scaler = StandardScaler()\n",
    "user_features_scaled = scaler.fit_transform(user_features.drop('CustomerID', axis=1))"
   ]
  },
  {
   "cell_type": "code",
   "execution_count": 15,
   "id": "089c50ed-08c4-4ad8-97a8-898b16bcaa4f",
   "metadata": {},
   "outputs": [],
   "source": [
    "# 3. Similarity Calculation: Using Cosine Similarity\n",
    "cosine_sim = cosine_similarity(user_features_scaled)"
   ]
  },
  {
   "cell_type": "code",
   "execution_count": 17,
   "id": "bed94de2-d4e1-431c-aaa4-5280b06b611d",
   "metadata": {},
   "outputs": [],
   "source": [
    "# 4. Recommendation Function: Find top 3 lookalikes for each customer\n",
    "lookalike_recommendations = {}"
   ]
  },
  {
   "cell_type": "code",
   "execution_count": 19,
   "id": "d1fdd88d-5908-48da-a4bc-3d77a604aa1f",
   "metadata": {},
   "outputs": [],
   "source": [
    "for i, customer_id in enumerate(user_features['CustomerID']):\n",
    "    # Get similarity scores for each customer\n",
    "    similarity_scores = list(enumerate(cosine_sim[i]))\n",
    "    # Sort the similarity scores in descending order (excluding self)\n",
    "    sorted_similarities = sorted(similarity_scores, key=lambda x: x[1], reverse=True)[1:4]\n",
    "    # Store top 3 lookalikes with their similarity scores\n",
    "    lookalike_recommendations[customer_id] = [(user_features['CustomerID'][j], score) for j, score in sorted_similarities]\n"
   ]
  },
  {
   "cell_type": "code",
   "execution_count": 21,
   "id": "c9687a53-a0a1-445f-b863-c51c278981d5",
   "metadata": {},
   "outputs": [],
   "source": [
    "# 5. Output the results into a CSV file\n",
    "lookalike_df = []\n",
    "for cust_id, recommendations in lookalike_recommendations.items():\n",
    "    for rec in recommendations:\n",
    "        lookalike_df.append([cust_id, rec[0], rec[1]])\n",
    "\n",
    "lookalike_df = pd.DataFrame(lookalike_df, columns=[\"CustomerID\", \"LookalikeID\", \"SimilarityScore\"])\n",
    "lookalike_df.to_csv(\"FirstName_LastName_Lookalike.csv\", index=False)"
   ]
  },
  {
   "cell_type": "code",
   "execution_count": 23,
   "id": "b40faea2-fa45-4570-aa12-cbf54453d626",
   "metadata": {},
   "outputs": [
    {
     "name": "stdout",
     "output_type": "stream",
     "text": [
      "  CustomerID LookalikeID  SimilarityScore\n",
      "0      C0001       C0107         0.996725\n",
      "1      C0001       C0137         0.996063\n",
      "2      C0001       C0191         0.990618\n",
      "3      C0002       C0142         0.994534\n",
      "4      C0002       C0177         0.986784\n"
     ]
    }
   ],
   "source": [
    "# Display the first few recommendations\n",
    "print(lookalike_df.head())"
   ]
  },
  {
   "cell_type": "code",
   "execution_count": null,
   "id": "11fd3175-d869-4bf5-9ca2-04c53a4ba5fd",
   "metadata": {},
   "outputs": [],
   "source": []
  }
 ],
 "metadata": {
  "kernelspec": {
   "display_name": "Python 3 (ipykernel)",
   "language": "python",
   "name": "python3"
  },
  "language_info": {
   "codemirror_mode": {
    "name": "ipython",
    "version": 3
   },
   "file_extension": ".py",
   "mimetype": "text/x-python",
   "name": "python",
   "nbconvert_exporter": "python",
   "pygments_lexer": "ipython3",
   "version": "3.12.7"
  }
 },
 "nbformat": 4,
 "nbformat_minor": 5
}
